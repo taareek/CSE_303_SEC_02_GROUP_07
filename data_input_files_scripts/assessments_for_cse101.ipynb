{
 "cells": [
  {
   "cell_type": "markdown",
   "metadata": {},
   "source": [
    "##### Reading  OBE Mrksheet"
   ]
  },
  {
   "cell_type": "code",
   "execution_count": 1,
   "metadata": {},
   "outputs": [],
   "source": [
    "import pandas as pd\n",
    "cse104_file = pd.read_excel('CSE104 OBE Mark Sheet.xlsx')"
   ]
  },
  {
   "cell_type": "code",
   "execution_count": 2,
   "metadata": {},
   "outputs": [
    {
     "data": {
      "text/html": [
       "<div>\n",
       "<style scoped>\n",
       "    .dataframe tbody tr th:only-of-type {\n",
       "        vertical-align: middle;\n",
       "    }\n",
       "\n",
       "    .dataframe tbody tr th {\n",
       "        vertical-align: top;\n",
       "    }\n",
       "\n",
       "    .dataframe thead th {\n",
       "        text-align: right;\n",
       "    }\n",
       "</style>\n",
       "<table border=\"1\" class=\"dataframe\">\n",
       "  <thead>\n",
       "    <tr style=\"text-align: right;\">\n",
       "      <th></th>\n",
       "      <th>Serial</th>\n",
       "      <th>ID</th>\n",
       "      <th>Course ID</th>\n",
       "      <th>Section</th>\n",
       "      <th>Semester</th>\n",
       "      <th>Midterm</th>\n",
       "      <th>Unnamed: 6</th>\n",
       "      <th>Unnamed: 7</th>\n",
       "      <th>Unnamed: 8</th>\n",
       "      <th>Unnamed: 9</th>\n",
       "      <th>...</th>\n",
       "      <th>Final Total</th>\n",
       "      <th>Final Total Converted</th>\n",
       "      <th>Project Work</th>\n",
       "      <th>Project Work Total</th>\n",
       "      <th>Total</th>\n",
       "      <th>Unnamed: 22</th>\n",
       "      <th>CO Total</th>\n",
       "      <th>Unnamed: 24</th>\n",
       "      <th>Unnamed: 25</th>\n",
       "      <th>Unnamed: 26</th>\n",
       "    </tr>\n",
       "  </thead>\n",
       "  <tbody>\n",
       "    <tr>\n",
       "      <th>0</th>\n",
       "      <td>NaN</td>\n",
       "      <td>NaN</td>\n",
       "      <td>NaN</td>\n",
       "      <td>NaN</td>\n",
       "      <td>NaN</td>\n",
       "      <td>CO1</td>\n",
       "      <td>CO1</td>\n",
       "      <td>CO1</td>\n",
       "      <td>CO2</td>\n",
       "      <td>CO1</td>\n",
       "      <td>...</td>\n",
       "      <td>100.0</td>\n",
       "      <td>40.0</td>\n",
       "      <td>CO4</td>\n",
       "      <td>30.0</td>\n",
       "      <td>100.0</td>\n",
       "      <td>NaN</td>\n",
       "      <td>CO1</td>\n",
       "      <td>CO2</td>\n",
       "      <td>CO3</td>\n",
       "      <td>CO4</td>\n",
       "    </tr>\n",
       "    <tr>\n",
       "      <th>1</th>\n",
       "      <td>NaN</td>\n",
       "      <td>NaN</td>\n",
       "      <td>NaN</td>\n",
       "      <td>NaN</td>\n",
       "      <td>NaN</td>\n",
       "      <td>Q1</td>\n",
       "      <td>Q2</td>\n",
       "      <td>Q3</td>\n",
       "      <td>Q4</td>\n",
       "      <td>Q5</td>\n",
       "      <td>...</td>\n",
       "      <td>NaN</td>\n",
       "      <td>NaN</td>\n",
       "      <td>Lab</td>\n",
       "      <td>NaN</td>\n",
       "      <td>NaN</td>\n",
       "      <td>NaN</td>\n",
       "      <td>165</td>\n",
       "      <td>35</td>\n",
       "      <td>50</td>\n",
       "      <td>30</td>\n",
       "    </tr>\n",
       "    <tr>\n",
       "      <th>2</th>\n",
       "      <td>NaN</td>\n",
       "      <td>NaN</td>\n",
       "      <td>NaN</td>\n",
       "      <td>NaN</td>\n",
       "      <td>NaN</td>\n",
       "      <td>25</td>\n",
       "      <td>25</td>\n",
       "      <td>30</td>\n",
       "      <td>20</td>\n",
       "      <td>30</td>\n",
       "      <td>...</td>\n",
       "      <td>NaN</td>\n",
       "      <td>NaN</td>\n",
       "      <td>30</td>\n",
       "      <td>NaN</td>\n",
       "      <td>NaN</td>\n",
       "      <td>NaN</td>\n",
       "      <td>NaN</td>\n",
       "      <td>NaN</td>\n",
       "      <td>NaN</td>\n",
       "      <td>NaN</td>\n",
       "    </tr>\n",
       "    <tr>\n",
       "      <th>3</th>\n",
       "      <td>1.0</td>\n",
       "      <td>1416455.0</td>\n",
       "      <td>CSE104</td>\n",
       "      <td>1.0</td>\n",
       "      <td>Summer</td>\n",
       "      <td>15</td>\n",
       "      <td>0</td>\n",
       "      <td>5</td>\n",
       "      <td>15</td>\n",
       "      <td>2</td>\n",
       "      <td>...</td>\n",
       "      <td>65.0</td>\n",
       "      <td>26.0</td>\n",
       "      <td>24</td>\n",
       "      <td>24.0</td>\n",
       "      <td>67.0</td>\n",
       "      <td>8.2</td>\n",
       "      <td>55</td>\n",
       "      <td>26</td>\n",
       "      <td>28</td>\n",
       "      <td>24</td>\n",
       "    </tr>\n",
       "    <tr>\n",
       "      <th>4</th>\n",
       "      <td>2.0</td>\n",
       "      <td>1579288.0</td>\n",
       "      <td>CSE104</td>\n",
       "      <td>1.0</td>\n",
       "      <td>Summer</td>\n",
       "      <td>0</td>\n",
       "      <td>0</td>\n",
       "      <td>18</td>\n",
       "      <td>0</td>\n",
       "      <td>5</td>\n",
       "      <td>...</td>\n",
       "      <td>46.0</td>\n",
       "      <td>18.4</td>\n",
       "      <td>23</td>\n",
       "      <td>23.0</td>\n",
       "      <td>57.0</td>\n",
       "      <td>8.6</td>\n",
       "      <td>45</td>\n",
       "      <td>13</td>\n",
       "      <td>23</td>\n",
       "      <td>23</td>\n",
       "    </tr>\n",
       "    <tr>\n",
       "      <th>5</th>\n",
       "      <td>3.0</td>\n",
       "      <td>1528882.0</td>\n",
       "      <td>CSE104</td>\n",
       "      <td>3.0</td>\n",
       "      <td>Summer</td>\n",
       "      <td>15</td>\n",
       "      <td>7</td>\n",
       "      <td>0</td>\n",
       "      <td>0</td>\n",
       "      <td>0</td>\n",
       "      <td>...</td>\n",
       "      <td>30.0</td>\n",
       "      <td>12.0</td>\n",
       "      <td>6</td>\n",
       "      <td>6.0</td>\n",
       "      <td>40.0</td>\n",
       "      <td>16.8</td>\n",
       "      <td>35</td>\n",
       "      <td>8</td>\n",
       "      <td>13</td>\n",
       "      <td>6</td>\n",
       "    </tr>\n",
       "    <tr>\n",
       "      <th>6</th>\n",
       "      <td>4.0</td>\n",
       "      <td>1653725.0</td>\n",
       "      <td>CSE104</td>\n",
       "      <td>3.0</td>\n",
       "      <td>Summer</td>\n",
       "      <td>0</td>\n",
       "      <td>0</td>\n",
       "      <td>0</td>\n",
       "      <td>0</td>\n",
       "      <td>0</td>\n",
       "      <td>...</td>\n",
       "      <td>0.0</td>\n",
       "      <td>0.0</td>\n",
       "      <td>0</td>\n",
       "      <td>0.0</td>\n",
       "      <td>8.0</td>\n",
       "      <td>8.0</td>\n",
       "      <td>0</td>\n",
       "      <td>0</td>\n",
       "      <td>0</td>\n",
       "      <td>0</td>\n",
       "    </tr>\n",
       "  </tbody>\n",
       "</table>\n",
       "<p>7 rows × 27 columns</p>\n",
       "</div>"
      ],
      "text/plain": [
       "   Serial         ID Course ID  Section  Semester Midterm Unnamed: 6  \\\n",
       "0     NaN        NaN       NaN       NaN      NaN     CO1        CO1   \n",
       "1     NaN        NaN       NaN       NaN      NaN      Q1         Q2   \n",
       "2     NaN        NaN       NaN       NaN      NaN      25         25   \n",
       "3     1.0  1416455.0    CSE104       1.0   Summer      15          0   \n",
       "4     2.0  1579288.0    CSE104       1.0   Summer       0          0   \n",
       "5     3.0  1528882.0    CSE104       3.0   Summer      15          7   \n",
       "6     4.0  1653725.0    CSE104       3.0   Summer       0          0   \n",
       "\n",
       "  Unnamed: 7 Unnamed: 8 Unnamed: 9  ... Final Total  Final Total Converted  \\\n",
       "0        CO1        CO2        CO1  ...       100.0                   40.0   \n",
       "1         Q3         Q4         Q5  ...         NaN                    NaN   \n",
       "2         30         20         30  ...         NaN                    NaN   \n",
       "3          5         15          2  ...        65.0                   26.0   \n",
       "4         18          0          5  ...        46.0                   18.4   \n",
       "5          0          0          0  ...        30.0                   12.0   \n",
       "6          0          0          0  ...         0.0                    0.0   \n",
       "\n",
       "   Project Work Project Work Total  Total Unnamed: 22 CO Total  Unnamed: 24  \\\n",
       "0           CO4               30.0  100.0         NaN      CO1          CO2   \n",
       "1           Lab                NaN    NaN         NaN      165           35   \n",
       "2            30                NaN    NaN         NaN      NaN          NaN   \n",
       "3            24               24.0   67.0         8.2       55           26   \n",
       "4            23               23.0   57.0         8.6       45           13   \n",
       "5             6                6.0   40.0        16.8       35            8   \n",
       "6             0                0.0    8.0         8.0        0            0   \n",
       "\n",
       "   Unnamed: 25 Unnamed: 26  \n",
       "0          CO3         CO4  \n",
       "1           50          30  \n",
       "2          NaN         NaN  \n",
       "3           28          24  \n",
       "4           23          23  \n",
       "5           13           6  \n",
       "6            0           0  \n",
       "\n",
       "[7 rows x 27 columns]"
      ]
     },
     "execution_count": 2,
     "metadata": {},
     "output_type": "execute_result"
    }
   ],
   "source": [
    "cse104_file.head(7)"
   ]
  },
  {
   "cell_type": "code",
   "execution_count": 3,
   "metadata": {},
   "outputs": [],
   "source": [
    "# Converting to list\n",
    "to_list = cse104_file.values.tolist()"
   ]
  },
  {
   "cell_type": "code",
   "execution_count": 4,
   "metadata": {},
   "outputs": [
    {
     "name": "stdout",
     "output_type": "stream",
     "text": [
      "[nan, nan, nan, nan, nan, 'CO1', 'CO1', 'CO1', 'CO2', 'CO1', 'CO1', 150.0, 30.0, 'CO1', 'CO1', 'CO2', 'CO3', 100.0, 40.0, 'CO4', 30.0, 100.0, nan, 'CO1', 'CO2', 'CO3', 'CO4']\n",
      "[nan, nan, nan, nan, nan, 'Q1', 'Q2', 'Q3', 'Q4', 'Q5', 'Q6', nan, nan, 'Q1', 'Q2', 'Q3', 'Q4', nan, nan, 'Lab', nan, nan, nan, 165, 35, 50, 30]\n",
      "[nan, nan, nan, nan, nan, 25, 25, 30, 20, 30, 20, nan, nan, 20, 15, 15, 50, nan, nan, 30, nan, nan, nan, nan, nan, nan, nan]\n",
      "[1.0, 1416455.0, 'CSE104', 1.0, 'Summer', 15, 0, 5, 15, 2, 7, 44.0, 8.8, 13, 13, 11, 28, 65.0, 26.0, 24, 24.0, 67.0, 8.200000000000003, 55, 26, 28, 24]\n",
      "[2.0, 1579288.0, 'CSE104', 1.0, 'Summer', 0, 0, 18, 0, 5, 12, 35.0, 7.0, nan, 10, 13, 23, 46.0, 18.400000000000002, 23, 23.0, 57.0, 8.599999999999994, 45, 13, 23, 23]\n"
     ]
    }
   ],
   "source": [
    "for i in range(5):\n",
    "    print(to_list[i])\n",
    "    "
   ]
  },
  {
   "cell_type": "code",
   "execution_count": 6,
   "metadata": {},
   "outputs": [
    {
     "name": "stdout",
     "output_type": "stream",
     "text": [
      "25\n",
      "CO1\n",
      "<class 'str'>\n"
     ]
    }
   ],
   "source": [
    "# total marks for q1\n",
    "q1 = to_list[1:][1][5]\n",
    "print(q1)\n",
    "#getting CO number\n",
    "co_id_mq1 = to_list[0][5] #\n",
    "print(co_id_mq1)\n",
    "print(type(co_id_mq1))"
   ]
  },
  {
   "cell_type": "code",
   "execution_count": 7,
   "metadata": {},
   "outputs": [
    {
     "name": "stdout",
     "output_type": "stream",
     "text": [
      "['CSE104_Mid_Q1_S1', 'Midterm', 25, 'CO1', 'cse104_1']\n"
     ]
    }
   ],
   "source": [
    "# Creating assessments for mid q1\n",
    "mid_q1_sec_1 = ['CSE104_Mid_Q1_S1', 'Midterm', q1, co_id_mq1, 'cse104_' + str(1) ]\n",
    "print(mid_q1_sec_1)\n",
    "mid_q1_sec_2 = ['CSE104_Mid_Q1_S2', 'Midterm', q1, co_id_mq1, 'cse104_' + str(2) ]\n",
    "mid_q1_sec_3 = ['CSE104_Mid_Q1_S3', 'Midterm', q1, co_id_mq1, 'cse104_' + str(3) ]"
   ]
  },
  {
   "cell_type": "code",
   "execution_count": 8,
   "metadata": {},
   "outputs": [
    {
     "name": "stdout",
     "output_type": "stream",
     "text": [
      "25\n",
      "CO1\n"
     ]
    }
   ],
   "source": [
    "# total marks for q2\n",
    "q2 = to_list[1:][1][6]\n",
    "print(q2)\n",
    "#getting CO number\n",
    "co_id_mq2 = to_list[0][6]\n",
    "print(co_id_mq2)"
   ]
  },
  {
   "cell_type": "code",
   "execution_count": 9,
   "metadata": {},
   "outputs": [
    {
     "name": "stdout",
     "output_type": "stream",
     "text": [
      "['CSE104_Mid_Q2_S1', 'Midterm', 25, 'CO1', 'cse104_1']\n",
      "['CSE104_Mid_Q2_S3', 'Midterm', 25, 'CO1', 'cse104_3']\n"
     ]
    }
   ],
   "source": [
    "# Creating assessments mid q2\n",
    "mid_q2_sec_1 = ['CSE104_Mid_Q2_S1', 'Midterm', q2, co_id_mq2, 'cse104_' + str(1) ]\n",
    "print(mid_q2_sec_1)\n",
    "mid_q2_sec_2 = ['CSE104_Mid_Q2_S2', 'Midterm', q2, co_id_mq2, 'cse104_' + str(2) ]\n",
    "mid_q2_sec_3 = ['CSE104_Mid_Q2_S3', 'Midterm', q2, co_id_mq2, 'cse104_' + str(3) ]\n",
    "print(mid_q2_sec_3)"
   ]
  },
  {
   "cell_type": "code",
   "execution_count": 10,
   "metadata": {},
   "outputs": [
    {
     "name": "stdout",
     "output_type": "stream",
     "text": [
      "30\n",
      "CO1\n"
     ]
    }
   ],
   "source": [
    "# total marks for q3\n",
    "q3 = to_list[1:][1][7]\n",
    "print(q3)\n",
    "#getting CO number\n",
    "co_id_mq3 = to_list[0][7]\n",
    "print(co_id_mq3)"
   ]
  },
  {
   "cell_type": "code",
   "execution_count": 11,
   "metadata": {},
   "outputs": [
    {
     "name": "stdout",
     "output_type": "stream",
     "text": [
      "['CSE104_Mid_Q3', 'Midterm', 30, 'CO1', 'cse104_1']\n",
      "['CSE104_Mid_Q4_S3', 'Midterm', 30, 'CO1', 'cse104_3']\n"
     ]
    }
   ],
   "source": [
    "# Creating assessments mid q3\n",
    "mid_q3_sec_1 = ['CSE104_Mid_Q3', 'Midterm', q3, co_id_mq3, 'cse104_' + str(1) ]\n",
    "print(mid_q3_sec_1)\n",
    "mid_q3_sec_2 = ['CSE104_Mid_Q4_S2', 'Midterm', q3, co_id_mq3, 'cse104_' + str(2) ]\n",
    "mid_q3_sec_3 = ['CSE104_Mid_Q4_S3', 'Midterm', q3, co_id_mq3, 'cse104_' + str(3) ]\n",
    "print(mid_q3_sec_3)"
   ]
  },
  {
   "cell_type": "code",
   "execution_count": 12,
   "metadata": {},
   "outputs": [
    {
     "name": "stdout",
     "output_type": "stream",
     "text": [
      "20\n",
      "CO2\n"
     ]
    }
   ],
   "source": [
    "# total marks for q4\n",
    "q4 = to_list[1:][1][8]\n",
    "print(q4)\n",
    "#getting CO number\n",
    "co_id_mq4 = to_list[0][8]\n",
    "print(co_id_mq4)"
   ]
  },
  {
   "cell_type": "code",
   "execution_count": 13,
   "metadata": {},
   "outputs": [
    {
     "name": "stdout",
     "output_type": "stream",
     "text": [
      "['CSE104_Mid_Q4', 'Midterm', 20, 'CO2', 'cse104_1']\n",
      "['CSE104_Mid_Q4', 'Midterm', 20, 'CO2', 'cse104_3']\n"
     ]
    }
   ],
   "source": [
    "# Creating assessments mid q4\n",
    "mid_q4_sec_1 = ['CSE104_Mid_Q4', 'Midterm', q4, co_id_mq4, 'cse104_' + str(1) ]\n",
    "print(mid_q4_sec_1)\n",
    "mid_q4_sec_2 = ['CSE104_Mid_Q4', 'Midterm', q4, co_id_mq4, 'cse104_' + str(2) ]\n",
    "mid_q4_sec_3 = ['CSE104_Mid_Q4', 'Midterm', q4, co_id_mq4, 'cse104_' + str(3) ]\n",
    "print(mid_q4_sec_3)"
   ]
  },
  {
   "cell_type": "code",
   "execution_count": 14,
   "metadata": {},
   "outputs": [
    {
     "name": "stdout",
     "output_type": "stream",
     "text": [
      "30\n",
      "CO1\n"
     ]
    }
   ],
   "source": [
    "# total marks for q5\n",
    "q5 = to_list[1:][1][9]\n",
    "print(q5)\n",
    "#getting CO number\n",
    "co_id_mq5 = to_list[0][9]\n",
    "print(co_id_mq5)"
   ]
  },
  {
   "cell_type": "code",
   "execution_count": 15,
   "metadata": {},
   "outputs": [
    {
     "name": "stdout",
     "output_type": "stream",
     "text": [
      "['CSE104_Mid_Q5_S1', 'Midterm', 30, 'CO1', 'cse104_1']\n",
      "['CSE104_Mid_Q5_S3', 'Midterm', 30, 'CO1', 'cse104_3']\n"
     ]
    }
   ],
   "source": [
    "# Creating assessments mid q5\n",
    "mid_q5_sec_1 = ['CSE104_Mid_Q5_S1', 'Midterm', q5, co_id_mq5, 'cse104_' + str(1) ]\n",
    "print(mid_q5_sec_1)\n",
    "mid_q5_sec_2 = ['CSE104_Mid_Q5_S2', 'Midterm', q5, co_id_mq5, 'cse104_' + str(2) ]\n",
    "mid_q5_sec_3 = ['CSE104_Mid_Q5_S3', 'Midterm', q5, co_id_mq5, 'cse104_' + str(3) ]\n",
    "print(mid_q5_sec_3)"
   ]
  },
  {
   "cell_type": "code",
   "execution_count": 16,
   "metadata": {},
   "outputs": [
    {
     "name": "stdout",
     "output_type": "stream",
     "text": [
      "20\n",
      "CO1\n"
     ]
    }
   ],
   "source": [
    "# total marks for q6\n",
    "q6 = to_list[1:][1][10]\n",
    "print(q6)\n",
    "#getting CO number\n",
    "co_id_mq6 = to_list[0][10]\n",
    "print(co_id_mq6)"
   ]
  },
  {
   "cell_type": "code",
   "execution_count": 17,
   "metadata": {},
   "outputs": [
    {
     "name": "stdout",
     "output_type": "stream",
     "text": [
      "['CSE104_Mid_Q6_S1', 'Midterm', 20, 'CO1', 'cse104_1']\n",
      "['CSE104_Mid_Q6_S3', 'Midterm', 20, 'CO1', 'cse104_3']\n"
     ]
    }
   ],
   "source": [
    "# Creating assessments mid q6\n",
    "mid_q6_sec_1 = ['CSE104_Mid_Q6_S1', 'Midterm', q6, co_id_mq6, 'cse104_' + str(1) ]\n",
    "print(mid_q6_sec_1)\n",
    "mid_q6_sec_2 = ['CSE104_Mid_Q6_S2', 'Midterm', q6, co_id_mq6, 'cse104_' + str(2) ]\n",
    "mid_q6_sec_3 = ['CSE104_Mid_Q6_S3', 'Midterm', q6, co_id_mq6, 'cse104_' + str(3) ]\n",
    "print(mid_q6_sec_3)"
   ]
  },
  {
   "cell_type": "markdown",
   "metadata": {},
   "source": [
    "##### Assessments for Final"
   ]
  },
  {
   "cell_type": "code",
   "execution_count": 18,
   "metadata": {},
   "outputs": [
    {
     "name": "stdout",
     "output_type": "stream",
     "text": [
      "20\n",
      "CO1\n"
     ]
    }
   ],
   "source": [
    "# total marks for  Final q1\n",
    "fq1 = to_list[1:][1][13]\n",
    "print(fq1)\n",
    "#getting CO number\n",
    "co_id_fq1 = to_list[0][13]\n",
    "print(co_id_fq1)"
   ]
  },
  {
   "cell_type": "code",
   "execution_count": 19,
   "metadata": {},
   "outputs": [
    {
     "name": "stdout",
     "output_type": "stream",
     "text": [
      "['CSE104_Final_Q1_S1', 'Final', 20, 'CO1', 'cse104_1']\n",
      "['CSE104_Final_Q1_S3', 'Final', 20, 'CO1', 'cse104_3']\n"
     ]
    }
   ],
   "source": [
    "# Creating assessments Final Q1\n",
    "fnl_q1_sec_1 = ['CSE104_Final_Q1_S1', 'Final', fq1, co_id_fq1, 'cse104_' + str(1) ]\n",
    "print(fnl_q1_sec_1)\n",
    "fnl_q1_sec_2 = ['CSE104_Final_Q1_S2', 'Final', fq1, co_id_fq1, 'cse104_' + str(2) ]\n",
    "fnl_q1_sec_3 = ['CSE104_Final_Q1_S3', 'Final', fq1, co_id_fq1, 'cse104_' + str(3) ]\n",
    "print(fnl_q1_sec_3)"
   ]
  },
  {
   "cell_type": "code",
   "execution_count": 20,
   "metadata": {},
   "outputs": [
    {
     "name": "stdout",
     "output_type": "stream",
     "text": [
      "15\n",
      "CO1\n"
     ]
    }
   ],
   "source": [
    "# total marks for  Final q2\n",
    "fq2 = to_list[1:][1][14]\n",
    "print(fq2)\n",
    "#getting CO number\n",
    "co_id_fq2 = to_list[0][14]\n",
    "print(co_id_fq2)"
   ]
  },
  {
   "cell_type": "code",
   "execution_count": 21,
   "metadata": {},
   "outputs": [
    {
     "name": "stdout",
     "output_type": "stream",
     "text": [
      "['CSE104_Final_Q2_S1', 'Final', 15, 'CO1', 'cse104_1']\n",
      "['CSE104_Final_Q2_S3', 'Final', 15, 'CO1', 'cse104_3']\n"
     ]
    }
   ],
   "source": [
    "# Creating assessments Final Q2\n",
    "fnl_q2_sec_1 = ['CSE104_Final_Q2_S1', 'Final', fq2, co_id_fq2, 'cse104_' + str(1) ]\n",
    "print(fnl_q2_sec_1)\n",
    "fnl_q2_sec_2 = ['CSE104_Final_Q2_S2', 'Final', fq2, co_id_fq2, 'cse104_' + str(2) ]\n",
    "fnl_q2_sec_3 = ['CSE104_Final_Q2_S3', 'Final', fq2, co_id_fq2, 'cse104_' + str(3) ]\n",
    "print(fnl_q2_sec_3)"
   ]
  },
  {
   "cell_type": "code",
   "execution_count": 22,
   "metadata": {},
   "outputs": [
    {
     "name": "stdout",
     "output_type": "stream",
     "text": [
      "15\n",
      "CO2\n"
     ]
    }
   ],
   "source": [
    "# total marks for  Final q3\n",
    "fq3 = to_list[1:][1][15]\n",
    "print(fq3)\n",
    "#getting CO number\n",
    "co_id_fq3 = to_list[0][15]\n",
    "print(co_id_fq3)"
   ]
  },
  {
   "cell_type": "code",
   "execution_count": 23,
   "metadata": {},
   "outputs": [
    {
     "name": "stdout",
     "output_type": "stream",
     "text": [
      "['CSE104_Final_Q3_S1', 'Final', 15, 'CO2', 'cse104_1']\n",
      "['CSE104_Final_Q3_S3', 'Final', 15, 'CO2', 'cse104_3']\n"
     ]
    }
   ],
   "source": [
    "# Creating assessments Final Q3\n",
    "fnl_q3_sec_1 = ['CSE104_Final_Q3_S1', 'Final', fq3, co_id_fq3, 'cse104_' + str(1) ]\n",
    "print(fnl_q3_sec_1)\n",
    "fnl_q3_sec_2 = ['CSE104_Final_Q3_S2', 'Final', fq3, co_id_fq3, 'cse104_' + str(2) ]\n",
    "fnl_q3_sec_3 = ['CSE104_Final_Q3_S3', 'Final', fq3, co_id_fq3, 'cse104_' + str(3) ]\n",
    "print(fnl_q3_sec_3)"
   ]
  },
  {
   "cell_type": "code",
   "execution_count": 24,
   "metadata": {},
   "outputs": [
    {
     "name": "stdout",
     "output_type": "stream",
     "text": [
      "50\n",
      "CO3\n"
     ]
    }
   ],
   "source": [
    "# total marks for  Final q4\n",
    "fq4 = to_list[1:][1][16]\n",
    "print(fq4)\n",
    "#getting CO number\n",
    "co_id_fq4 = to_list[0][16]\n",
    "print(co_id_fq4)"
   ]
  },
  {
   "cell_type": "code",
   "execution_count": 25,
   "metadata": {},
   "outputs": [
    {
     "name": "stdout",
     "output_type": "stream",
     "text": [
      "['CSE104_Final_Q4_S1', 'Final', 50, 'CO3', 'cse104_1']\n",
      "['CSE104_Final_Q4_S3', 'Final', 50, 'CO3', 'cse104_3']\n"
     ]
    }
   ],
   "source": [
    "# Creating assessments Final Q4\n",
    "fnl_q4_sec_1 = ['CSE104_Final_Q4_S1', 'Final', fq4, co_id_fq4, 'cse104_' + str(1) ]\n",
    "print(fnl_q4_sec_1)\n",
    "fnl_q4_sec_2 = ['CSE104_Final_Q4_S2', 'Final', fq4, co_id_fq4, 'cse104_' + str(2) ]\n",
    "fnl_q4_sec_3 = ['CSE104_Final_Q4_S3', 'Final', fq4, co_id_fq4, 'cse104_' + str(3) ]\n",
    "print(fnl_q4_sec_3)"
   ]
  },
  {
   "cell_type": "markdown",
   "metadata": {},
   "source": [
    "##### Making Excel Sheet (CSV File)"
   ]
  },
  {
   "cell_type": "code",
   "execution_count": 26,
   "metadata": {},
   "outputs": [],
   "source": [
    "assessments = [mid_q1_sec_1, mid_q1_sec_2, mid_q1_sec_3, mid_q2_sec_1, mid_q2_sec_2, mid_q3_sec_3,\n",
    "              mid_q3_sec_1, mid_q3_sec_2, mid_q3_sec_3, mid_q4_sec_1, mid_q4_sec_2, mid_q4_sec_3,\n",
    "              mid_q5_sec_1, mid_q5_sec_2, mid_q5_sec_3, mid_q6_sec_1, mid_q6_sec_2, mid_q6_sec_3,\n",
    "              fnl_q1_sec_1, fnl_q1_sec_2, fnl_q1_sec_3, fnl_q2_sec_1, fnl_q2_sec_2, fnl_q2_sec_3,\n",
    "              fnl_q3_sec_1, fnl_q3_sec_2, fnl_q3_sec_3, fnl_q4_sec_1, fnl_q4_sec_2, fnl_q4_sec_3]\n",
    "\n",
    "# as []\n",
    "# as.append(mid_q1_sec_1)"
   ]
  },
  {
   "cell_type": "code",
   "execution_count": 27,
   "metadata": {},
   "outputs": [
    {
     "data": {
      "text/html": [
       "<div>\n",
       "<style scoped>\n",
       "    .dataframe tbody tr th:only-of-type {\n",
       "        vertical-align: middle;\n",
       "    }\n",
       "\n",
       "    .dataframe tbody tr th {\n",
       "        vertical-align: top;\n",
       "    }\n",
       "\n",
       "    .dataframe thead th {\n",
       "        text-align: right;\n",
       "    }\n",
       "</style>\n",
       "<table border=\"1\" class=\"dataframe\">\n",
       "  <thead>\n",
       "    <tr style=\"text-align: right;\">\n",
       "      <th></th>\n",
       "      <th>Assessments ID</th>\n",
       "      <th>Assessments name</th>\n",
       "      <th>Total marks</th>\n",
       "      <th>CO id</th>\n",
       "      <th>Section ID</th>\n",
       "    </tr>\n",
       "  </thead>\n",
       "  <tbody>\n",
       "    <tr>\n",
       "      <th>0</th>\n",
       "      <td>CSE104_Mid_Q1_S1</td>\n",
       "      <td>Midterm</td>\n",
       "      <td>25</td>\n",
       "      <td>CO1</td>\n",
       "      <td>cse104_1</td>\n",
       "    </tr>\n",
       "    <tr>\n",
       "      <th>1</th>\n",
       "      <td>CSE104_Mid_Q1_S2</td>\n",
       "      <td>Midterm</td>\n",
       "      <td>25</td>\n",
       "      <td>CO1</td>\n",
       "      <td>cse104_2</td>\n",
       "    </tr>\n",
       "    <tr>\n",
       "      <th>2</th>\n",
       "      <td>CSE104_Mid_Q1_S3</td>\n",
       "      <td>Midterm</td>\n",
       "      <td>25</td>\n",
       "      <td>CO1</td>\n",
       "      <td>cse104_3</td>\n",
       "    </tr>\n",
       "    <tr>\n",
       "      <th>3</th>\n",
       "      <td>CSE104_Mid_Q2_S1</td>\n",
       "      <td>Midterm</td>\n",
       "      <td>25</td>\n",
       "      <td>CO1</td>\n",
       "      <td>cse104_1</td>\n",
       "    </tr>\n",
       "    <tr>\n",
       "      <th>4</th>\n",
       "      <td>CSE104_Mid_Q2_S2</td>\n",
       "      <td>Midterm</td>\n",
       "      <td>25</td>\n",
       "      <td>CO1</td>\n",
       "      <td>cse104_2</td>\n",
       "    </tr>\n",
       "  </tbody>\n",
       "</table>\n",
       "</div>"
      ],
      "text/plain": [
       "     Assessments ID Assessments name  Total marks CO id Section ID\n",
       "0  CSE104_Mid_Q1_S1          Midterm           25   CO1   cse104_1\n",
       "1  CSE104_Mid_Q1_S2          Midterm           25   CO1   cse104_2\n",
       "2  CSE104_Mid_Q1_S3          Midterm           25   CO1   cse104_3\n",
       "3  CSE104_Mid_Q2_S1          Midterm           25   CO1   cse104_1\n",
       "4  CSE104_Mid_Q2_S2          Midterm           25   CO1   cse104_2"
      ]
     },
     "execution_count": 27,
     "metadata": {},
     "output_type": "execute_result"
    }
   ],
   "source": [
    "df = pd.DataFrame(assessments,columns=['Assessments ID', 'Assessments name', 'Total marks', 'CO id', 'Section ID'] )\n",
    "df.head()"
   ]
  },
  {
   "cell_type": "code",
   "execution_count": 28,
   "metadata": {},
   "outputs": [],
   "source": [
    "df.to_excel('assessments_cse104.xlsx')"
   ]
  },
  {
   "cell_type": "code",
   "execution_count": null,
   "metadata": {},
   "outputs": [],
   "source": []
  }
 ],
 "metadata": {
  "kernelspec": {
   "display_name": "Python 3",
   "language": "python",
   "name": "python3"
  },
  "language_info": {
   "codemirror_mode": {
    "name": "ipython",
    "version": 3
   },
   "file_extension": ".py",
   "mimetype": "text/x-python",
   "name": "python",
   "nbconvert_exporter": "python",
   "pygments_lexer": "ipython3",
   "version": "3.8.8"
  }
 },
 "nbformat": 4,
 "nbformat_minor": 4
}
